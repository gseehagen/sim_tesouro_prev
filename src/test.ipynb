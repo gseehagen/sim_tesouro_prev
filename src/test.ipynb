{
 "cells": [
  {
   "cell_type": "code",
   "execution_count": null,
   "id": "122076de",
   "metadata": {},
   "outputs": [
    {
     "name": "stdout",
     "output_type": "stream",
     "text": [
      "A taxa anual é 0.141\n",
      "O vencimento do título é 01/01/2035\n",
      "O nome do título é Tesouro Prefixado com juros semestrais 2035\n",
      "Sua taxa mensal equivalente é 0.011052724217629706\n"
     ]
    }
   ],
   "source": [
    "import pandas as pd\n",
    "from models.titulo import Titulo\n",
    "\n",
    "\n",
    "df = pd.read_csv(r'C:\\Users\\guilherme.seehagen\\OneDrive - UNIOESTE\\Área de Trabalho\\mq3_trabalho\\data\\tesouro_direto_titulos.csv')\n",
    "\n",
    "\n",
    "df['Rentabilidade anual'] = df['Rentabilidade anual'].astype(float) / 100\n",
    "\n",
    "# Cria os títulos\n",
    "titulos = [\n",
    "    Titulo(\n",
    "        nome=row['Título'],\n",
    "        vencimento=row['Vencimento'],\n",
    "        taxa_juros_anual=row['Rentabilidade anual']\n",
    "    )\n",
    "    for _, row in df.iterrows()\n",
    "]\n",
    "\n",
    "# Teste\n",
    "titulos[2].resumo_do_titulo()"
   ]
  }
 ],
 "metadata": {
  "kernelspec": {
   "display_name": "Python 3",
   "language": "python",
   "name": "python3"
  },
  "language_info": {
   "codemirror_mode": {
    "name": "ipython",
    "version": 3
   },
   "file_extension": ".py",
   "mimetype": "text/x-python",
   "name": "python",
   "nbconvert_exporter": "python",
   "pygments_lexer": "ipython3",
   "version": "3.13.5"
  }
 },
 "nbformat": 4,
 "nbformat_minor": 5
}
